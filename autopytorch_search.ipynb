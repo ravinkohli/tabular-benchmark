{
 "cells": [
  {
   "cell_type": "code",
   "execution_count": 56,
   "metadata": {},
   "outputs": [],
   "source": [
    "from src.reproduce_utils import Results\n",
    "import pandas as pd"
   ]
  },
  {
   "cell_type": "code",
   "execution_count": 57,
   "metadata": {},
   "outputs": [],
   "source": [
    "def get_result(methods, metrics, dataset_names, result_df):\n",
    "    headers = [\"metric\", \"dataset\"]\n",
    "    indices = [\n",
    "        \"method\",\n",
    "        \"seed\",\n",
    "    ]\n",
    "    columns = pd.MultiIndex.from_product([metrics, dataset_names], names=headers)\n",
    "    index = pd.MultiIndex.from_product([methods, [1]], names=indices)\n",
    "    df = pd.DataFrame(columns=columns, index=index)\n",
    "    df.sort_index(inplace=True)\n",
    "    for index, row in result_df.iterrows():\n",
    "        for method in methods:\n",
    "            if int(row[\"dataset_id\"]) not in dataset_names:\n",
    "                continue\n",
    "            if \"logistic\" in method:\n",
    "                score_method = \"linear\"\n",
    "            else:\n",
    "                score_method = method\n",
    "            row_id = (method, 1)\n",
    "            col = (\"acc\", row[\"dataset_id\"])\n",
    "            df.loc[row_id, col] = row[f\"score_{score_method}\"]\n",
    "    return Results(df=df)"
   ]
  },
  {
   "cell_type": "code",
   "execution_count": 58,
   "metadata": {},
   "outputs": [],
   "source": [
    "# autopytorch_cocktails_random_df = pd.read_csv('csv_files/cocktails_random_refit_results.csv', index_col=0)\n",
    "# autopytorch_cocktails_random_df['dataset_id'] = autopytorch_cocktails_random_df['dataset_id'].astype(int).replace(dict(zip(final_benchmark_dataset_ids, selected_datasets)))\n",
    "# autopytorch_cocktails_random_df = autopytorch_cocktails_random_df.set_index('dataset_id')\n",
    "# all_my_results['score_cocktails_random'] = autopytorch_cocktails_random_df['test_score']\n"
   ]
  },
  {
   "cell_type": "code",
   "execution_count": 59,
   "metadata": {},
   "outputs": [],
   "source": [
    "all_my_results = pd.read_csv(\"csv_files/all_results_with_cocktail.csv\", index_col=None).set_index(\"dataset_id\").sort_index()\n"
   ]
  },
  {
   "cell_type": "code",
   "execution_count": 60,
   "metadata": {},
   "outputs": [],
   "source": [
    "# cocktails_default_df = pd.read_csv(\"csv_files/cocktails_default_refit_results.csv\", index_col=None).set_index('dataset_id')\n",
    "# all_my_results = pd.read_csv(\"csv_files/all_results_with_cocktail_random.csv\", index_col=\"dataset_id\").sort_index()\n",
    "# all_my_results[\"score_cocktails_default\"] = cocktails_default_df['test_score']\n",
    "# all_my_results[\"score_autopytorch_default\"] = scores_autopytorch_default['autopytorch_master_default']\n",
    "# all_my_results[\"score_cocktails\"] = cocktails_df['test_score']\n",
    "# all_my_results.columns\n",
    "# all_my_results = all_my_results.drop(\"score_autopytorch_default\", axis=1)"
   ]
  },
  {
   "cell_type": "code",
   "execution_count": 61,
   "metadata": {},
   "outputs": [],
   "source": [
    "def get_average_rank_table(results: Results):\n",
    "    datasets = results.datasets\n",
    "    metrics = sorted(results.metrics, reverse=True)\n",
    "    # print(results.methods)\n",
    "    df = results.df\n",
    "    results_rank = {}\n",
    "    results_score = {}\n",
    "    for metric in metrics:\n",
    "        if \"time\" in metric:\n",
    "            continue\n",
    "        metric_df = df[metric]\n",
    "        dataset_rank_dfs = []\n",
    "        dataset_mean_dfs = []\n",
    "        for dataset in datasets:\n",
    "            if dataset not in metric_df.columns:\n",
    "                continue\n",
    "            dataset_rank_df = metric_df[dataset].groupby('method').mean().rank(ascending=False)\n",
    "            dataset_rank_dfs.append(dataset_rank_df)\n",
    "            dataset_mean_dfs.append(metric_df[dataset])\n",
    "\n",
    "        results_rank[metric.upper()] = pd.concat(dataset_rank_dfs).groupby(\"method\").mean()\n",
    "        \n",
    "        results_score[metric.upper()] = pd.concat(dataset_mean_dfs).groupby(\"method\").mean()\n",
    "    score_df = pd.DataFrame(results_score).reset_index()\n",
    "    rank_df = pd.DataFrame(results_rank).reset_index()\n",
    "    final_table = rank_df.merge(score_df, on=\"method\", suffixes=[\" Mean Rank\", \" Mean Score\"]).T\n",
    "    final_table.columns = final_table.iloc[0]\n",
    "    final_table = final_table.iloc[1:]\n",
    "    return final_table\n",
    "\n",
    "def pprint(df):\n",
    "    for column in df:\n",
    "        df[column] = df[column].astype('float').round(decimals=4)\n",
    "\n",
    "    print(df.to_markdown())"
   ]
  },
  {
   "cell_type": "code",
   "execution_count": 62,
   "metadata": {},
   "outputs": [],
   "source": [
    "def get_too_easy_select_acc_to_difference(df: pd.DataFrame, methods: list, stddev: float = 0.05):\n",
    "    std_datasets = df[[f\"score_{method}\" for method in methods]].std(axis=1)\n",
    "    selection_criteria = std_datasets < stddev\n",
    "    too_easy_on_selection_criteria = df.loc[selection_criteria].index.to_list()\n",
    "    select_on_selection_criteria = df.loc[list(map(lambda x: not x, selection_criteria))].index.to_list()\n",
    "    return too_easy_on_selection_criteria, select_on_selection_criteria\n"
   ]
  },
  {
   "cell_type": "code",
   "execution_count": 63,
   "metadata": {},
   "outputs": [],
   "source": [
    "def get_too_easy_select_acc_to_criteria(df: pd.DataFrame, better_methods: list, worse_methods: list):\n",
    "        \n",
    "    lhs = df[better_methods].max(axis=1) if len(better_methods) > 1 else df[better_methods[0]]\n",
    "    rhs = df[worse_methods].max(axis=1) if len(worse_methods) > 1 else df[worse_methods[0]]\n",
    "    selection_criteria = lhs < 1.05 * rhs\n",
    "    too_easy_on_selection_criteria = df.loc[selection_criteria].index.to_list()\n",
    "    select_on_selection_criteria = df.loc[list(map(lambda x: not x, selection_criteria))].index.to_list()\n",
    "    return too_easy_on_selection_criteria, select_on_selection_criteria"
   ]
  },
  {
   "cell_type": "code",
   "execution_count": 64,
   "metadata": {},
   "outputs": [],
   "source": [
    "too_easy_cocktails_default_hgbt_linear_dids, select_cocktails_default_hgbt_linear_dids = get_too_easy_select_acc_to_criteria(all_my_results, better_methods=[\"score_hgbt\", \"score_cocktails_default\"], worse_methods=[\"score_linear\"])\n",
    "too_easy_cocktails_default_hgbt_tree_dids, select_cocktails_default_hgbt_tree_dids = get_too_easy_select_acc_to_criteria(all_my_results, better_methods=[\"score_hgbt\", \"score_cocktails_default\"], worse_methods=[\"score_tree\"])\n",
    "too_easy_cocktails_default_hgbt_combined_dids, select_cocktails_default_hgbt_combined_dids = get_too_easy_select_acc_to_criteria(all_my_results, better_methods=[\"score_hgbt\", \"score_cocktails_default\"], worse_methods=[\"score_tree\", \"score_linear\"])\n",
    "too_easy_hgbt_tree_dids, select_hgbt_tree_dids = get_too_easy_select_acc_to_criteria(all_my_results, better_methods=[\"score_hgbt\"], worse_methods=[\"score_tree\"])\n",
    "too_easy_hgbt_linear_dids, select_hgbt_linear_dids = get_too_easy_select_acc_to_criteria(all_my_results, better_methods=[\"score_hgbt\"], worse_methods=[\"score_linear\"])\n",
    "too_easy_hgbt_combined_dids, select_hgbt_combined_dids = get_too_easy_select_acc_to_criteria(all_my_results, better_methods=[\"score_hgbt\"], worse_methods=[\"score_tree\", \"score_linear\"])\n",
    "too_easy_resnet_tree_dids, select_resnet_tree_dids = get_too_easy_select_acc_to_criteria(all_my_results, better_methods=[\"score_resnet\"], worse_methods=[\"score_tree\"])\n",
    "too_easy_mlp_tree_dids, select_mlp_tree_dids = get_too_easy_select_acc_to_criteria(all_my_results, better_methods=[\"score_mlp\"], worse_methods=[\"score_tree\"])\n",
    "too_easy_cocktails_default_tree_dids, select_cocktails_default_tree_dids = get_too_easy_select_acc_to_criteria(all_my_results, better_methods=[\"score_cocktails_default\"], worse_methods=[\"score_tree\"])\n",
    "too_easy_autopytorch_default_cocktails_default_hgbt_combined_dids, select_autopytorch_default_cocktails_default_hgbt_combined_dids = get_too_easy_select_acc_to_criteria(all_my_results, better_methods=[\"score_hgbt\", \"score_cocktails_default\"], worse_methods=[\"score_linear\", \"score_tree\"])\n",
    "too_easy_cocktails_default_linear_dids, select_cocktails_default_linear_dids = get_too_easy_select_acc_to_criteria(all_my_results, better_methods=[\"score_cocktails_default\"], worse_methods=[\"score_linear\"])\n"
   ]
  },
  {
   "cell_type": "code",
   "execution_count": 65,
   "metadata": {},
   "outputs": [],
   "source": [
    "\n",
    "\n",
    "ranks_df = {\n",
    "    # results vs logreg\n",
    "    # \"too_easy_(HGBT,_Cocktails_default)_vs_(Logreg)_on_my\": {\n",
    "    #     \"ranks\": None,\n",
    "    #     \"dids\": too_easy_cocktails_default_hgbt_linear_dids},\n",
    "    \"select_(HGBT,_Cocktails_default)_vs_(Logreg)_on_my\": {\n",
    "        \"ranks\": None,\n",
    "        \"dids\": select_cocktails_default_hgbt_linear_dids},\n",
    "\n",
    "    # results vs tree\n",
    "    # \"too_easy_(HGBT,_Cocktails_default)_vs_(tree)_on_my\": {\n",
    "    #     \"ranks\": None,\n",
    "    #     \"dids\": too_easy_cocktails_default_hgbt_tree_dids},\n",
    "    \"select_(HGBT,_Cocktails_default)_vs_(tree)_on_my\": {\n",
    "        \"ranks\": None,\n",
    "        \"dids\": select_cocktails_default_hgbt_tree_dids},\n",
    "    \n",
    "    # results vs both\n",
    "    # \"too_easy_(HGBT,_Cocktails_default)_vs_(tree,Logreg)_on_my\": {\n",
    "    #     \"ranks\": None,\n",
    "    #     \"dids\": too_easy_cocktails_default_hgbt_combined_dids},\n",
    "    \"select_(HGBT,_Cocktails_default)_vs_(tree,Logreg)_on_my\": {\n",
    "        \"ranks\": None,\n",
    "        \"dids\": select_cocktails_default_hgbt_combined_dids},\n",
    "\n",
    "    # results individual\n",
    "    # vs tree\n",
    "    # \"too_easy_(_Cocktails_default)_vs_(tree)_on_my\": {\n",
    "    #     \"ranks\": None,\n",
    "    #     \"dids\": too_easy_cocktails_default_tree_dids},\n",
    "    \"select_(_Cocktails_default)_vs_(tree)_on_my\": {\n",
    "        \"ranks\": None,\n",
    "        \"dids\": select_cocktails_default_tree_dids},\n",
    "    # vs logreg\n",
    "    # \"too_easy_(_Cocktails_default)_vs_(Logreg)_on_my\": {\n",
    "    #     \"ranks\": None,\n",
    "    #     \"dids\": too_easy_cocktails_default_linear_dids},\n",
    "    \"select_(_Cocktails_default)_vs_(Logreg)_on_my\": {\n",
    "        \"ranks\": None,\n",
    "        \"dids\": select_cocktails_default_linear_dids},\n",
    "\n",
    "    # all combined\n",
    "    # \"too_easy_(HGBT,_Cocktails_default)_vs_(tree,Logreg)_on_my\": {\n",
    "    #     \"ranks\": None,\n",
    "    #     \"dids\": too_easy_autopytorch_default_cocktails_default_hgbt_combined_dids},\n",
    "    \"select_(HGBT,_Cocktails_default)_vs_(tree,Logreg)_on_my\": {\n",
    "        \"ranks\": None,\n",
    "        \"dids\": select_autopytorch_default_cocktails_default_hgbt_combined_dids},\n",
    "\n",
    "    # from previous tables\n",
    "    # \"too_easy_(HGBT)_vs_(tree)_on_my\": {\n",
    "    #     \"ranks\": None,\n",
    "    #     \"dids\": too_easy_hgbt_tree_dids},\n",
    "    \"select_(HGBT)_vs_(tree)_on_my\": {\n",
    "        \"ranks\": None,\n",
    "        \"dids\": select_hgbt_tree_dids},\n",
    "    # \"too_easy_(HGBT)_vs_(Logreg)_on_my\": {\n",
    "    #     \"ranks\": None,\n",
    "    #     \"dids\": too_easy_hgbt_linear_dids},\n",
    "    \"select_(HGBT)_vs_(Logreg)_on_my\": {\n",
    "        \"ranks\": None,\n",
    "        \"dids\": select_hgbt_linear_dids},\n",
    "    # \"too_easy_(HGBT)_vs_(tree,Logreg)_on_my\": {\n",
    "    #     \"ranks\": None,\n",
    "    #     \"dids\": too_easy_hgbt_combined_dids},\n",
    "    \"select_(HGBT)_vs_(tree,Logreg)_on_my\": {\n",
    "        \"ranks\": None,\n",
    "        \"dids\": select_hgbt_combined_dids},\n",
    "        }\n"
   ]
  },
  {
   "cell_type": "code",
   "execution_count": 66,
   "metadata": {},
   "outputs": [],
   "source": [
    "selected_datasets = [151, 293, 722, 821, 993, 1044, 1120, 1461, 1489, 41150, 41168, 42769, 44089, 44090, 44091]\n"
   ]
  },
  {
   "cell_type": "code",
   "execution_count": 67,
   "metadata": {},
   "outputs": [
    {
     "data": {
      "text/plain": [
       "{354, 1222, 4541}"
      ]
     },
     "execution_count": 67,
     "metadata": {},
     "output_type": "execute_result"
    }
   ],
   "source": [
    "set(select_hgbt_linear_dids) - set(selected_datasets)"
   ]
  },
  {
   "cell_type": "code",
   "execution_count": 68,
   "metadata": {},
   "outputs": [
    {
     "name": "stdout",
     "output_type": "stream",
     "text": [
      "\n",
      "\n",
      "SELECT (HGBT, COCKTAILS DEFAULT) VS (LOGREG) ON MY (19)\n",
      "|                |   cocktails_default |   cocktails_random |   hgbt |   logistic |\n",
      "|:---------------|--------------------:|-------------------:|-------:|-----------:|\n",
      "| ACC Mean Rank  |              2.5263 |             2.1667 | 1.3684 |     3.8421 |\n",
      "| ACC Mean Score |              0.7771 |             0.7788 | 0.7952 |     0.7042 |\n",
      "\n",
      "\n",
      "SELECT (HGBT, COCKTAILS DEFAULT) VS (TREE) ON MY (44)\n",
      "|                |   cocktails_default |   cocktails_random |   hgbt |   logistic |\n",
      "|:---------------|--------------------:|-------------------:|-------:|-----------:|\n",
      "| ACC Mean Rank  |              2.7727 |             2.2791 | 1.7955 |     3.1136 |\n",
      "| ACC Mean Score |              0.7668 |             0.7703 | 0.7781 |     0.7441 |\n",
      "\n",
      "\n",
      "SELECT (HGBT, COCKTAILS DEFAULT) VS (TREE,LOGREG) ON MY (15)\n",
      "|                |   cocktails_default |   cocktails_random |   hgbt |   logistic |\n",
      "|:---------------|--------------------:|-------------------:|-------:|-----------:|\n",
      "| ACC Mean Rank  |              2.4    |             2.2143 | 1.4667 |     3.8    |\n",
      "| ACC Mean Score |              0.7567 |             0.7554 | 0.7669 |     0.6811 |\n",
      "\n",
      "\n",
      "SELECT ( COCKTAILS DEFAULT) VS (TREE) ON MY (36)\n",
      "|                |   cocktails_default |   cocktails_random |   hgbt |   logistic |\n",
      "|:---------------|--------------------:|-------------------:|-------:|-----------:|\n",
      "| ACC Mean Rank  |              2.6286 |             2.1765 | 1.9722 |     3.1111 |\n",
      "| ACC Mean Score |              0.8021 |             0.8086 | 0.8092 |     0.7771 |\n",
      "\n",
      "\n",
      "SELECT ( COCKTAILS DEFAULT) VS (LOGREG) ON MY (12)\n",
      "|                |   cocktails_default |   cocktails_random |   hgbt |   logistic |\n",
      "|:---------------|--------------------:|-------------------:|-------:|-----------:|\n",
      "| ACC Mean Rank  |              2.1818 |             2.4    | 1.5    |     3.5833 |\n",
      "| ACC Mean Score |              0.817  |             0.8097 | 0.8316 |     0.7243 |\n",
      "\n",
      "\n",
      "SELECT (HGBT) VS (TREE) ON MY (43)\n",
      "|                |   cocktails_default |   cocktails_random |   hgbt |   logistic |\n",
      "|:---------------|--------------------:|-------------------:|-------:|-----------:|\n",
      "| ACC Mean Rank  |              2.814  |             2.2791 | 1.7907 |     3.1163 |\n",
      "| ACC Mean Score |              0.7711 |             0.7703 | 0.7839 |     0.7493 |\n",
      "\n",
      "\n",
      "SELECT (HGBT) VS (LOGREG) ON MY (18)\n",
      "|                |   cocktails_default |   cocktails_random |   hgbt |   logistic |\n",
      "|:---------------|--------------------:|-------------------:|-------:|-----------:|\n",
      "| ACC Mean Rank  |              2.6111 |             2.1667 | 1.3333 |     3.8889 |\n",
      "| ACC Mean Score |              0.7878 |             0.7788 | 0.81   |     0.7145 |\n",
      "\n",
      "\n",
      "SELECT (HGBT) VS (TREE,LOGREG) ON MY (14)\n",
      "|                |   cocktails_default |   cocktails_random |   hgbt |   logistic |\n",
      "|:---------------|--------------------:|-------------------:|-------:|-----------:|\n",
      "| ACC Mean Rank  |              2.5    |             2.2143 | 1.4286 |     3.8571 |\n",
      "| ACC Mean Score |              0.7691 |             0.7554 | 0.7839 |     0.6926 |\n"
     ]
    }
   ],
   "source": [
    "methods = [ \"hgbt\", \"logistic\", \"cocktails_random\", \"cocktails_default\"] # , \"resnet\", \"rf\", \"tree\", \"mlp\",]\n",
    "metrics = [\"acc\"]\n",
    "for key in ranks_df:\n",
    "    current_result = get_result(methods, metrics, ranks_df[key]['dids'], all_my_results.reset_index())\n",
    "    current_ranks = get_average_rank_table(current_result)\n",
    "    ranks_df[key]['ranks'] = current_ranks\n",
    "    print(f\"\\n\\n{key.upper().replace('_', ' ')} ({len(ranks_df[key]['dids'])})\")\n",
    "    pprint(current_ranks)"
   ]
  },
  {
   "cell_type": "code",
   "execution_count": 69,
   "metadata": {},
   "outputs": [
    {
     "name": "stdout",
     "output_type": "stream",
     "text": [
      "\n",
      "\n",
      "SELECT (HGBT, COCKTAILS DEFAULT) VS (LOGREG) ON MY (19)\n",
      "|                |   cocktails_default |   cocktails_random |   hgbt |   logistic |    mlp |   resnet |     rf |   tree |\n",
      "|:---------------|--------------------:|-------------------:|-------:|-----------:|-------:|---------:|-------:|-------:|\n",
      "| ACC Mean Rank  |              4.5263 |             3.9444 | 1.8947 |     7.3158 | 4.2105 |   5.1579 | 2.1579 | 6.5789 |\n",
      "| ACC Mean Score |              0.7771 |             0.7788 | 0.7952 |     0.7042 | 0.7666 |   0.7531 | 0.7909 | 0.7312 |\n",
      "\n",
      "\n",
      "SELECT (HGBT, COCKTAILS DEFAULT) VS (TREE) ON MY (44)\n",
      "|                |   cocktails_default |   cocktails_random |   hgbt |   logistic |    mlp |   resnet |     rf |   tree |\n",
      "|:---------------|--------------------:|-------------------:|-------:|-----------:|-------:|---------:|-------:|-------:|\n",
      "| ACC Mean Rank  |              4.7955 |             3.907  | 2.7273 |     5.4091 | 3.6591 |   4.5    | 3.2273 | 7.6818 |\n",
      "| ACC Mean Score |              0.7668 |             0.7703 | 0.7781 |     0.7441 | 0.7663 |   0.7644 | 0.7714 | 0.7035 |\n",
      "\n",
      "\n",
      "SELECT (HGBT, COCKTAILS DEFAULT) VS (TREE,LOGREG) ON MY (15)\n",
      "|                |   cocktails_default |   cocktails_random |   hgbt |   logistic |    mlp |   resnet |     rf |   tree |\n",
      "|:---------------|--------------------:|-------------------:|-------:|-----------:|-------:|---------:|-------:|-------:|\n",
      "| ACC Mean Rank  |              4.2667 |             3.9286 | 1.9333 |     7.2    | 4.2    |   4.8667 | 2.2667 | 7.0667 |\n",
      "| ACC Mean Score |              0.7567 |             0.7554 | 0.7669 |     0.6811 | 0.7404 |   0.7424 | 0.7612 | 0.6941 |\n",
      "\n",
      "\n",
      "SELECT ( COCKTAILS DEFAULT) VS (TREE) ON MY (36)\n",
      "|                |   cocktails_default |   cocktails_random |   hgbt |   logistic |    mlp |   resnet |     rf |   tree |\n",
      "|:---------------|--------------------:|-------------------:|-------:|-----------:|-------:|---------:|-------:|-------:|\n",
      "| ACC Mean Rank  |              4.4857 |             3.5882 | 3.2222 |     5.4167 | 3.5    |   4.3889 | 3.3611 | 7.7222 |\n",
      "| ACC Mean Score |              0.8021 |             0.8086 | 0.8092 |     0.7771 | 0.8015 |   0.8    | 0.8047 | 0.7339 |\n",
      "\n",
      "\n",
      "SELECT ( COCKTAILS DEFAULT) VS (LOGREG) ON MY (12)\n",
      "|                |   cocktails_default |   cocktails_random |   hgbt |   logistic |    mlp |   resnet |     rf |   tree |\n",
      "|:---------------|--------------------:|-------------------:|-------:|-----------:|-------:|---------:|-------:|-------:|\n",
      "| ACC Mean Rank  |              3.6364 |             4.5    | 2.5    |     7.1667 | 4.0833 |   4.75   | 2.4167 | 6.0833 |\n",
      "| ACC Mean Score |              0.817  |             0.8097 | 0.8316 |     0.7243 | 0.8042 |   0.7866 | 0.8306 | 0.7798 |\n",
      "\n",
      "\n",
      "SELECT (HGBT) VS (TREE) ON MY (43)\n",
      "|                |   cocktails_default |   cocktails_random |   hgbt |   logistic |    mlp |   resnet |     rf |   tree |\n",
      "|:---------------|--------------------:|-------------------:|-------:|-----------:|-------:|---------:|-------:|-------:|\n",
      "| ACC Mean Rank  |              4.8837 |             3.907  | 2.6744 |     5.3721 | 3.6744 |   4.5116 | 3.2558 | 7.7209 |\n",
      "| ACC Mean Score |              0.7711 |             0.7703 | 0.7839 |     0.7493 | 0.7716 |   0.7698 | 0.7762 | 0.7077 |\n",
      "\n",
      "\n",
      "SELECT (HGBT) VS (LOGREG) ON MY (18)\n",
      "|                |   cocktails_default |   cocktails_random |   hgbt |   logistic |    mlp |   resnet |     rf |   tree |\n",
      "|:---------------|--------------------:|-------------------:|-------:|-----------:|-------:|---------:|-------:|-------:|\n",
      "| ACC Mean Rank  |              4.7222 |             3.9444 | 1.7222 |     7.3333 | 4.2778 |   5.2222 | 2.1667 | 6.6111 |\n",
      "| ACC Mean Score |              0.7878 |             0.7788 | 0.81   |     0.7145 | 0.7795 |   0.7653 | 0.8035 | 0.7428 |\n",
      "\n",
      "\n",
      "SELECT (HGBT) VS (TREE,LOGREG) ON MY (14)\n",
      "|                |   cocktails_default |   cocktails_random |   hgbt |   logistic |    mlp |   resnet |     rf |   tree |\n",
      "|:---------------|--------------------:|-------------------:|-------:|-----------:|-------:|---------:|-------:|-------:|\n",
      "| ACC Mean Rank  |              4.5    |             3.9286 | 1.7143 |     7.2143 | 4.2857 |   4.9286 | 2.2857 | 7.1429 |\n",
      "| ACC Mean Score |              0.7691 |             0.7554 | 0.7839 |     0.6926 | 0.7551 |   0.7574 | 0.7752 | 0.7064 |\n"
     ]
    }
   ],
   "source": [
    "methods = [ \"hgbt\", \"logistic\", \"resnet\", \"rf\", \"tree\", \"mlp\", \"cocktails_default\", \"cocktails_random\"]\n",
    "metrics = [\"acc\"]\n",
    "for key in ranks_df:\n",
    "    current_result = get_result(methods, metrics, ranks_df[key]['dids'], all_my_results.reset_index())\n",
    "    current_ranks = get_average_rank_table(current_result)\n",
    "    ranks_df[key]['ranks'] = current_ranks\n",
    "    print(f\"\\n\\n{key.upper().replace('_', ' ')} ({len(ranks_df[key]['dids'])})\")\n",
    "    pprint(current_ranks)"
   ]
  },
  {
   "cell_type": "code",
   "execution_count": 70,
   "metadata": {},
   "outputs": [],
   "source": [
    "methods = [ \"hgbt\", \"linear\", \"resnet\", \"rf\", \"tree\", \"mlp\", \"cocktails_default\", \"cocktails_random\"]\n",
    "\n",
    "too_easy_std_methods_dids, select_std_methods_dids = get_too_easy_select_acc_to_difference(all_my_results, methods=methods)\n",
    "# subset_methods = [ \"hgbt\", \"linear\", \"rf\", \"tree\", \"mlp\",\"autopytorch_default\", \"cocktails_default\"]\n",
    "\n",
    "# too_easy_autopytorch_default_linear_dids, select_autopytorch_default_linear_dids = get_too_easy_select_acc_to_difference(all_my_results, methods=methods)\n"
   ]
  },
  {
   "cell_type": "code",
   "execution_count": 81,
   "metadata": {},
   "outputs": [
    {
     "name": "stdout",
     "output_type": "stream",
     "text": [
      "\n",
      "\n",
      "STD > 0.05, METHODS=ALL - RANDOM (SELECT) (5)\n",
      "|                |   cocktails_default |   cocktails_random |   hgbt |   logistic |    mlp |   resnet |     rf |   tree |\n",
      "|:---------------|--------------------:|-------------------:|-------:|-----------:|-------:|---------:|-------:|-------:|\n",
      "| ACC Mean Rank  |              3      |             3.2    | 3      |     6.2    | 4.4    |   5.2    | 4.2    | 6.8    |\n",
      "| ACC Mean Score |              0.8715 |             0.8391 | 0.8596 |     0.7252 | 0.8274 |   0.7868 | 0.8338 | 0.7475 |\n"
     ]
    }
   ],
   "source": [
    "methods = [ \"hgbt\", \"linear\", \"resnet\", \"rf\", \"tree\", \"mlp\", \"cocktails_default\"]\n",
    "\n",
    "too_easy_std_methods_dids, select_std_methods_dids = get_too_easy_select_acc_to_difference(all_my_results, methods=methods)\n",
    "\n",
    "ranks_df = {\n",
    "    \"std_>_0.05,_methods=all_-_random_(select)\": {\n",
    "        \"ranks\": None,\n",
    "        \"dids\": select_std_methods_dids},\n",
    "        }\n",
    "methods = [ \"hgbt\", \"logistic\", \"resnet\", \"rf\", \"tree\", \"mlp\",\"cocktails_default\", \"cocktails_random\"]\n",
    "metrics = [\"acc\"]\n",
    "for key in ranks_df:\n",
    "    current_result = get_result(methods, metrics, ranks_df[key]['dids'], all_my_results.reset_index())\n",
    "    current_ranks = get_average_rank_table(current_result)\n",
    "    ranks_df[key]['ranks'] = current_ranks\n",
    "    print(f\"\\n\\n{key.upper().replace('_', ' ')} ({len(ranks_df[key]['dids'])})\")\n",
    "    pprint(current_ranks)"
   ]
  },
  {
   "cell_type": "code",
   "execution_count": 82,
   "metadata": {},
   "outputs": [
    {
     "name": "stdout",
     "output_type": "stream",
     "text": [
      "\n",
      "\n",
      "STD > 0.05, METHODS=HGBT,LINEAR,TREE,COCKTAILS DEFAULT (SELECT) (9)\n",
      "|                |   cocktails_default |   cocktails_random |   hgbt |   logistic |    mlp |   resnet |     rf |   tree |\n",
      "|:---------------|--------------------:|-------------------:|-------:|-----------:|-------:|---------:|-------:|-------:|\n",
      "| ACC Mean Rank  |              3.8889 |             2.8889 | 3.1111 |     5.8889 | 4.4444 |   5.1111 | 4      | 6.6667 |\n",
      "| ACC Mean Score |              0.8739 |             0.86   | 0.8743 |     0.7723 | 0.8457 |   0.8237 | 0.8567 | 0.7779 |\n"
     ]
    }
   ],
   "source": [
    "methods = [ \"hgbt\", \"linear\", \"tree\", \"cocktails_default\"] # , \"\"]\n",
    "\n",
    "too_easy_std_methods_dids, select_std_methods_dids = get_too_easy_select_acc_to_difference(all_my_results, methods=methods)\n",
    "\n",
    "ranks_df = {\n",
    "    \"std_>_0.05,_methods=hgbt,linear,tree,cocktails_default_(select)\": {\n",
    "        \"ranks\": None,\n",
    "        \"dids\": select_std_methods_dids},\n",
    "        }\n",
    "methods = [ \"hgbt\", \"logistic\", \"resnet\", \"rf\", \"tree\", \"mlp\", \"cocktails_default\", \"cocktails_random\"]\n",
    "metrics = [\"acc\"]\n",
    "for key in ranks_df:\n",
    "    current_result = get_result(methods, metrics, ranks_df[key]['dids'], all_my_results.reset_index())\n",
    "    current_ranks = get_average_rank_table(current_result)\n",
    "    ranks_df[key]['ranks'] = current_ranks\n",
    "    print(f\"\\n\\n{key.upper().replace('_', ' ')} ({len(ranks_df[key]['dids'])})\")\n",
    "    pprint(current_ranks)"
   ]
  },
  {
   "cell_type": "code",
   "execution_count": 73,
   "metadata": {},
   "outputs": [
    {
     "name": "stdout",
     "output_type": "stream",
     "text": [
      "electricity\n",
      "covertype\n",
      "poker\n",
      "pol\n",
      "elevators\n",
      "phoneme\n",
      "twonorm\n",
      "Indian_pines\n",
      "SantanderCustomerSatisfaction\n"
     ]
    }
   ],
   "source": [
    "import openml\n",
    "for d_id in select_std_methods_dids:\n",
    "    dataset = openml.datasets.get_dataset(dataset_id=d_id, download_data=False)\n",
    "    print(dataset.name)"
   ]
  },
  {
   "cell_type": "code",
   "execution_count": 74,
   "metadata": {},
   "outputs": [
    {
     "name": "stdout",
     "output_type": "stream",
     "text": [
      "\n",
      "\n",
      "SELECT THEIR BENCHMARK (15)\n",
      "|                |   cocktails_default |   cocktails_random |   hgbt |   logistic |    mlp |   resnet |     rf |   tree |\n",
      "|:---------------|--------------------:|-------------------:|-------:|-----------:|-------:|---------:|-------:|-------:|\n",
      "| ACC Mean Rank  |              4.7333 |             4.0667 | 1.7333 |     7.4    | 4.2    |   5.2    | 2      | 6.6667 |\n",
      "| ACC Mean Score |              0.8047 |             0.8011 | 0.8356 |     0.7459 | 0.8063 |   0.7878 | 0.8328 | 0.7724 |\n"
     ]
    }
   ],
   "source": [
    "their_datasets = [151, 293, 722, 821, 993, 1044, 1120, 1461, 1489, 41150, 41168, 42769, 44089, 44090, 44091]\n",
    "\n",
    "ranks_df = {\n",
    "    \"select_their_benchmark\": {\n",
    "        \"ranks\": None,\n",
    "        \"dids\": their_datasets},\n",
    "        }\n",
    "methods = [ \"hgbt\", \"logistic\", \"resnet\", \"rf\", \"tree\", \"mlp\", \"cocktails_default\", \"cocktails_random\"]\n",
    "metrics = [\"acc\"]\n",
    "for key in ranks_df:\n",
    "    current_result = get_result(methods, metrics, ranks_df[key]['dids'], all_my_results.reset_index())\n",
    "    current_ranks = get_average_rank_table(current_result)\n",
    "    ranks_df[key]['ranks'] = current_ranks\n",
    "    print(f\"\\n\\n{key.upper().replace('_', ' ')} ({len(ranks_df[key]['dids'])})\")\n",
    "    pprint(current_ranks)"
   ]
  },
  {
   "cell_type": "code",
   "execution_count": 75,
   "metadata": {},
   "outputs": [
    {
     "data": {
      "text/plain": [
       "Results(df=metric                       acc                                          \\\n",
       "dataset                    151       293       722       821       993     \n",
       "method            seed                                                     \n",
       "cocktails_default 1     0.812899    0.8374  0.907769  0.854213  0.834297   \n",
       "cocktails_random  1     0.818778  0.849633  0.909421  0.879911  0.841362   \n",
       "hgbt              1     0.866601  0.818973   0.98519  0.881245  0.879512   \n",
       "logistic          1     0.740939  0.616487  0.856595  0.823771  0.829159   \n",
       "mlp               1     0.787723  0.784513  0.985785  0.874376  0.846371   \n",
       "resnet            1     0.789512  0.824347  0.695339  0.871164  0.836994   \n",
       "rf                1     0.862358   0.82788  0.981686  0.878181  0.882338   \n",
       "tree              1     0.834464  0.764407  0.972231  0.813146  0.840976   \n",
       "\n",
       "metric                                                                    \\\n",
       "dataset                    1044      1120      1461      1489      41150   \n",
       "method            seed                                                     \n",
       "cocktails_default 1     0.584319   0.84924  0.782609  0.858193  0.912267   \n",
       "cocktails_random  1     0.587385  0.842013  0.795526  0.871849  0.770533   \n",
       "hgbt              1      0.65922  0.861201   0.79351  0.873739  0.933853   \n",
       "logistic          1     0.553132  0.767157  0.747007  0.737395   0.85174   \n",
       "mlp               1     0.588962  0.851582  0.791808  0.839496  0.923147   \n",
       "resnet            1     0.583443  0.851582   0.78828   0.85105  0.918613   \n",
       "rf                1     0.643276  0.855819  0.797417  0.883193   0.92506   \n",
       "tree              1      0.56671  0.790232  0.727725  0.833613    0.8692   \n",
       "\n",
       "metric                                                                    \n",
       "dataset                    41168     42769     44089     44090     44091  \n",
       "method            seed                                                    \n",
       "cocktails_default 1     0.730767     0.661  0.757727  0.890002  0.797914  \n",
       "cocktails_random  1     0.761833  0.715633  0.729811  0.864642  0.778357  \n",
       "hgbt              1     0.778547   0.71164  0.778744  0.905056  0.807301  \n",
       "logistic          1     0.727487  0.635553  0.722313  0.834696   0.74472  \n",
       "mlp               1     0.723307  0.683793  0.757886  0.875271  0.779922  \n",
       "resnet            1      0.72536  0.676173  0.752144   0.87078  0.781486  \n",
       "rf                1     0.771353   0.70568  0.769212  0.893329  0.815645  \n",
       "tree              1     0.679147   0.61684  0.685344  0.837571  0.754368  )"
      ]
     },
     "execution_count": 75,
     "metadata": {},
     "output_type": "execute_result"
    }
   ],
   "source": [
    "current_result"
   ]
  },
  {
   "cell_type": "code",
   "execution_count": 76,
   "metadata": {},
   "outputs": [
    {
     "name": "stdout",
     "output_type": "stream",
     "text": [
      "\n",
      "\n",
      "STD > 0.05, METHODS=HGBT,LINEAR,TREE,RESNET MLP RF (SELECT) (7)\n",
      "|                |   cocktails_default |   cocktails_random |   hgbt |   logistic |    mlp |   resnet |     rf |   tree |\n",
      "|:---------------|--------------------:|-------------------:|-------:|-----------:|-------:|---------:|-------:|-------:|\n",
      "| ACC Mean Rank  |              3.7143 |             3      | 3      |     5.7143 | 4.4286 |   5.2857 | 3.8571 | 7      |\n",
      "| ACC Mean Score |              0.8829 |             0.8631 | 0.8773 |     0.7629 | 0.8495 |   0.8216 | 0.8601 | 0.7732 |\n"
     ]
    }
   ],
   "source": [
    "methods = [ \"hgbt\", \"linear\", \"tree\", \"resnet\", \"mlp\", \"rf\"] # , \"\"]\n",
    "\n",
    "too_easy_std_methods_dids, select_std_methods_dids = get_too_easy_select_acc_to_difference(all_my_results, methods=methods)\n",
    "\n",
    "ranks_df = {\n",
    "    \"std_>_0.05,_methods=hgbt,linear,tree,resnet_mlp_rf_(select)\": {\n",
    "        \"ranks\": None,\n",
    "        \"dids\": select_std_methods_dids},\n",
    "        }\n",
    "methods = [ \"hgbt\", \"logistic\", \"resnet\", \"rf\", \"tree\", \"mlp\", \"cocktails_default\", \"cocktails_random\"]\n",
    "metrics = [\"acc\"]\n",
    "for key in ranks_df:\n",
    "    current_result = get_result(methods, metrics, ranks_df[key]['dids'], all_my_results.reset_index())\n",
    "    current_ranks = get_average_rank_table(current_result)\n",
    "    ranks_df[key]['ranks'] = current_ranks\n",
    "    print(f\"\\n\\n{key.upper().replace('_', ' ')} ({len(ranks_df[key]['dids'])})\")\n",
    "    pprint(current_ranks)"
   ]
  },
  {
   "cell_type": "code",
   "execution_count": 77,
   "metadata": {},
   "outputs": [
    {
     "name": "stdout",
     "output_type": "stream",
     "text": [
      "covertype\n",
      "poker\n",
      "pol\n",
      "phoneme\n",
      "twonorm\n",
      "Indian_pines\n",
      "SantanderCustomerSatisfaction\n"
     ]
    }
   ],
   "source": [
    "import openml\n",
    "for d_id in select_std_methods_dids:\n",
    "    dataset = openml.datasets.get_dataset(dataset_id=d_id, download_data=False)\n",
    "    print(dataset.name)"
   ]
  },
  {
   "cell_type": "code",
   "execution_count": 78,
   "metadata": {},
   "outputs": [
    {
     "name": "stdout",
     "output_type": "stream",
     "text": [
      "\n",
      "\n",
      "STD > 0.05, METHODS=HGBT,RESNET MLP RF (SELECT) (1)\n",
      "|                |   cocktails_default |   cocktails_random |   hgbt |   logistic |    mlp |   resnet |     rf |   tree |\n",
      "|:---------------|--------------------:|-------------------:|-------:|-----------:|-------:|---------:|-------:|-------:|\n",
      "| ACC Mean Rank  |              6      |             5      | 2      |     7      | 1      |   8      | 3      | 4      |\n",
      "| ACC Mean Score |              0.9078 |             0.9094 | 0.9852 |     0.8566 | 0.9858 |   0.6953 | 0.9817 | 0.9722 |\n"
     ]
    }
   ],
   "source": [
    "methods = [ \"hgbt\",  \"resnet\", \"mlp\"] # , \"\"]\n",
    "\n",
    "too_easy_std_methods_dids, select_std_methods_dids = get_too_easy_select_acc_to_difference(all_my_results, methods=methods)\n",
    "\n",
    "ranks_df = {\n",
    "    \"std_>_0.05,_methods=hgbt,resnet_mlp_rf_(select)\": {\n",
    "        \"ranks\": None,\n",
    "        \"dids\": select_std_methods_dids},\n",
    "        }\n",
    "methods = [ \"hgbt\", \"logistic\", \"resnet\", \"rf\", \"tree\", \"mlp\", \"cocktails_default\", \"cocktails_random\"]\n",
    "metrics = [\"acc\"]\n",
    "for key in ranks_df:\n",
    "    current_result = get_result(methods, metrics, ranks_df[key]['dids'], all_my_results.reset_index())\n",
    "    current_ranks = get_average_rank_table(current_result)\n",
    "    ranks_df[key]['ranks'] = current_ranks\n",
    "    print(f\"\\n\\n{key.upper().replace('_', ' ')} ({len(ranks_df[key]['dids'])})\")\n",
    "    pprint(current_ranks)"
   ]
  },
  {
   "cell_type": "code",
   "execution_count": 79,
   "metadata": {},
   "outputs": [
    {
     "data": {
      "text/plain": [
       "Int64Index([   44,    60,   151,   279,   293,   351,   354,   357,   720,\n",
       "              722,   725,   734,   735,   737,   761,   803,   816,   819,\n",
       "              821,   823,   833,   846,   847,   871,   976,   979,   993,\n",
       "             1044,  1053,  1110,  1113,  1119,  1120,  1222,  1241,  1242,\n",
       "             1461,  1476,  1477,  1478,  1486,  1489,  1503,  1507,  1526,\n",
       "             1590,  4134,  4541, 23517, 40685, 40923, 41146, 41147, 41150,\n",
       "            41162, 41163, 41164, 41166, 41168, 41169, 41671, 41972, 42206,\n",
       "            42343, 42395, 42468, 42477, 42742, 42746, 42769, 43489, 44089,\n",
       "            44090, 44091],\n",
       "           dtype='int64', name='dataset_id')"
      ]
     },
     "execution_count": 79,
     "metadata": {},
     "output_type": "execute_result"
    }
   ],
   "source": [
    "all_my_results.index"
   ]
  },
  {
   "cell_type": "code",
   "execution_count": 80,
   "metadata": {},
   "outputs": [],
   "source": [
    "dl_models = [\"cocktails_default\", \"mlp\", \"resnet\", \"cocktails_random\"]\n",
    "ml_models = [\"hgbt\", \"logistic\", \"rf\", \"tree\"]\n",
    "\n",
    "\n",
    "methods = dl_models + ml_models\n",
    "\n",
    "current_result = get_result(methods, [\"acc\"], all_my_results.index, all_my_results.reset_index())\n",
    "\n",
    "\n",
    "\n",
    "\n"
   ]
  },
  {
   "cell_type": "code",
   "execution_count": 37,
   "metadata": {},
   "outputs": [
    {
     "data": {
      "text/plain": [
       "4.541666666666666"
      ]
     },
     "execution_count": 37,
     "metadata": {},
     "output_type": "execute_result"
    }
   ],
   "source": [
    "get_average_rank_table(Results(current_result.df.loc[:, (\"acc\", select_hgbt_linear_dids)])).loc['ACC Mean Rank', dl_models].mean()\n"
   ]
  },
  {
   "cell_type": "code",
   "execution_count": 83,
   "metadata": {},
   "outputs": [
    {
     "name": "stderr",
     "output_type": "stream",
     "text": [
      "/tmp/ipykernel_4148669/1091011079.py:2: FutureWarning: The behavior of indexing on a MultiIndex with a nested sequence of labels is deprecated and will change in a future version. `series.loc[label, sequence]` will raise if any members of 'sequence' or not present in the index's second level. To retain the old behavior, use `series.index.isin(sequence, level=1)`\n",
      "  dl_average_rank = get_average_rank_table(Results(current_result.df.loc[:, (\"acc\", select_hgbt_linear_dids)])).loc['ACC Mean Rank', dl_models].median()\n",
      "/tmp/ipykernel_4148669/1091011079.py:3: FutureWarning: The behavior of indexing on a MultiIndex with a nested sequence of labels is deprecated and will change in a future version. `series.loc[label, sequence]` will raise if any members of 'sequence' or not present in the index's second level. To retain the old behavior, use `series.index.isin(sequence, level=1)`\n",
      "  ml_average_rank = get_average_rank_table(Results(current_result.df.loc[:, (\"acc\", select_hgbt_linear_dids)])).loc['ACC Mean Rank', ml_models].median()\n",
      "/tmp/ipykernel_4148669/1091011079.py:7: FutureWarning: The behavior of indexing on a MultiIndex with a nested sequence of labels is deprecated and will change in a future version. `series.loc[label, sequence]` will raise if any members of 'sequence' or not present in the index's second level. To retain the old behavior, use `series.index.isin(sequence, level=1)`\n",
      "  dl_average_rank = get_average_rank_table(Results(current_result.df.loc[:, (\"acc\", select_hgbt_tree_dids)])).loc['ACC Mean Rank', dl_models].median()\n",
      "/tmp/ipykernel_4148669/1091011079.py:8: FutureWarning: The behavior of indexing on a MultiIndex with a nested sequence of labels is deprecated and will change in a future version. `series.loc[label, sequence]` will raise if any members of 'sequence' or not present in the index's second level. To retain the old behavior, use `series.index.isin(sequence, level=1)`\n",
      "  ml_average_rank = get_average_rank_table(Results(current_result.df.loc[:, (\"acc\", select_hgbt_tree_dids)])).loc['ACC Mean Rank', ml_models].median()\n",
      "/tmp/ipykernel_4148669/1091011079.py:12: FutureWarning: The behavior of indexing on a MultiIndex with a nested sequence of labels is deprecated and will change in a future version. `series.loc[label, sequence]` will raise if any members of 'sequence' or not present in the index's second level. To retain the old behavior, use `series.index.isin(sequence, level=1)`\n",
      "  dl_average_rank = get_average_rank_table(Results(current_result.df.loc[:, (\"acc\", select_hgbt_combined_dids)])).loc['ACC Mean Rank', dl_models].median()\n",
      "/tmp/ipykernel_4148669/1091011079.py:13: FutureWarning: The behavior of indexing on a MultiIndex with a nested sequence of labels is deprecated and will change in a future version. `series.loc[label, sequence]` will raise if any members of 'sequence' or not present in the index's second level. To retain the old behavior, use `series.index.isin(sequence, level=1)`\n",
      "  ml_average_rank = get_average_rank_table(Results(current_result.df.loc[:, (\"acc\", select_hgbt_combined_dids)])).loc['ACC Mean Rank', ml_models].median()\n",
      "/tmp/ipykernel_4148669/1091011079.py:17: FutureWarning: The behavior of indexing on a MultiIndex with a nested sequence of labels is deprecated and will change in a future version. `series.loc[label, sequence]` will raise if any members of 'sequence' or not present in the index's second level. To retain the old behavior, use `series.index.isin(sequence, level=1)`\n",
      "  dl_average_rank = get_average_rank_table(Results(current_result.df.loc[:, (\"acc\", select_cocktails_default_linear_dids)])).loc['ACC Mean Rank', dl_models].median()\n",
      "/tmp/ipykernel_4148669/1091011079.py:18: FutureWarning: The behavior of indexing on a MultiIndex with a nested sequence of labels is deprecated and will change in a future version. `series.loc[label, sequence]` will raise if any members of 'sequence' or not present in the index's second level. To retain the old behavior, use `series.index.isin(sequence, level=1)`\n",
      "  ml_average_rank = get_average_rank_table(Results(current_result.df.loc[:, (\"acc\", select_cocktails_default_linear_dids)])).loc['ACC Mean Rank', ml_models].median()\n"
     ]
    },
    {
     "name": "stdout",
     "output_type": "stream",
     "text": [
      "0.20000000000000107\n",
      "-1.166666666666667\n",
      "-2.75\n",
      "0.20000000000000107\n",
      "-1.166666666666667\n",
      "-0.7142857142857144\n"
     ]
    },
    {
     "name": "stderr",
     "output_type": "stream",
     "text": [
      "/tmp/ipykernel_4148669/1091011079.py:22: FutureWarning: The behavior of indexing on a MultiIndex with a nested sequence of labels is deprecated and will change in a future version. `series.loc[label, sequence]` will raise if any members of 'sequence' or not present in the index's second level. To retain the old behavior, use `series.index.isin(sequence, level=1)`\n",
      "  dl_average_rank = get_average_rank_table(Results(current_result.df.loc[:, (\"acc\", select_cocktails_default_tree_dids)])).loc['ACC Mean Rank', dl_models].median()\n",
      "/tmp/ipykernel_4148669/1091011079.py:23: FutureWarning: The behavior of indexing on a MultiIndex with a nested sequence of labels is deprecated and will change in a future version. `series.loc[label, sequence]` will raise if any members of 'sequence' or not present in the index's second level. To retain the old behavior, use `series.index.isin(sequence, level=1)`\n",
      "  ml_average_rank = get_average_rank_table(Results(current_result.df.loc[:, (\"acc\", select_cocktails_default_tree_dids)])).loc['ACC Mean Rank', ml_models].median()\n"
     ]
    }
   ],
   "source": [
    "\n",
    "# select hgbt vs logreg (should be biased against DL)\n",
    "dl_average_rank = get_average_rank_table(Results(current_result.df.loc[:, (\"acc\", select_hgbt_linear_dids)])).loc['ACC Mean Rank', dl_models].median()\n",
    "ml_average_rank = get_average_rank_table(Results(current_result.df.loc[:, (\"acc\", select_hgbt_linear_dids)])).loc['ACC Mean Rank', ml_models].median()\n",
    "print(dl_average_rank - ml_average_rank)\n",
    "\n",
    "# select hgbt vs tree\n",
    "dl_average_rank = get_average_rank_table(Results(current_result.df.loc[:, (\"acc\", select_hgbt_tree_dids)])).loc['ACC Mean Rank', dl_models].median()\n",
    "ml_average_rank = get_average_rank_table(Results(current_result.df.loc[:, (\"acc\", select_hgbt_tree_dids)])).loc['ACC Mean Rank', ml_models].median()\n",
    "print(dl_average_rank - ml_average_rank)\n",
    "\n",
    "# select hgbt vs logreg, tree\n",
    "dl_average_rank = get_average_rank_table(Results(current_result.df.loc[:, (\"acc\", select_hgbt_combined_dids)])).loc['ACC Mean Rank', dl_models].median()\n",
    "ml_average_rank = get_average_rank_table(Results(current_result.df.loc[:, (\"acc\", select_hgbt_combined_dids)])).loc['ACC Mean Rank', ml_models].median()\n",
    "print(dl_average_rank - ml_average_rank)\n",
    "\n",
    "# select cocktails default vs logreg\n",
    "dl_average_rank = get_average_rank_table(Results(current_result.df.loc[:, (\"acc\", select_cocktails_default_linear_dids)])).loc['ACC Mean Rank', dl_models].median()\n",
    "ml_average_rank = get_average_rank_table(Results(current_result.df.loc[:, (\"acc\", select_cocktails_default_linear_dids)])).loc['ACC Mean Rank', ml_models].median()\n",
    "print(dl_average_rank - ml_average_rank)\n",
    "\n",
    "# select cocktails default vs tree (should be biased against tree based)\n",
    "dl_average_rank = get_average_rank_table(Results(current_result.df.loc[:, (\"acc\", select_cocktails_default_tree_dids)])).loc['ACC Mean Rank', dl_models].median()\n",
    "ml_average_rank = get_average_rank_table(Results(current_result.df.loc[:, (\"acc\", select_cocktails_default_tree_dids)])).loc['ACC Mean Rank', ml_models].median()\n",
    "print(dl_average_rank - ml_average_rank)\n",
    "\n",
    "# select using STD (should not have a huge bias)\n",
    "# [ \"hgbt\", \"linear\", \"tree\", \"resnet\", \"mlp\", \"rf\"]\n",
    "select_std_methods_dids = [293, 354, 722, 1489, 1507, 41972, 42395]\n",
    "dl_average_rank = get_average_rank_table(Results(current_result.df.loc[:, (\"acc\", select_std_methods_dids)])).loc['ACC Mean Rank', dl_models].median()\n",
    "ml_average_rank = get_average_rank_table(Results(current_result.df.loc[:, (\"acc\", select_std_methods_dids)])).loc['ACC Mean Rank', ml_models].median()\n",
    "print(dl_average_rank - ml_average_rank)"
   ]
  },
  {
   "cell_type": "code",
   "execution_count": 84,
   "metadata": {},
   "outputs": [
    {
     "name": "stderr",
     "output_type": "stream",
     "text": [
      "/tmp/ipykernel_4148669/1746880487.py:2: FutureWarning: The behavior of indexing on a MultiIndex with a nested sequence of labels is deprecated and will change in a future version. `series.loc[label, sequence]` will raise if any members of 'sequence' or not present in the index's second level. To retain the old behavior, use `series.index.isin(sequence, level=1)`\n",
      "  dl_average_rank = get_average_rank_table(Results(current_result.df.loc[:, (\"acc\", select_hgbt_linear_dids)])).loc['ACC Mean Rank', dl_models].mean()\n",
      "/tmp/ipykernel_4148669/1746880487.py:3: FutureWarning: The behavior of indexing on a MultiIndex with a nested sequence of labels is deprecated and will change in a future version. `series.loc[label, sequence]` will raise if any members of 'sequence' or not present in the index's second level. To retain the old behavior, use `series.index.isin(sequence, level=1)`\n",
      "  ml_average_rank = get_average_rank_table(Results(current_result.df.loc[:, (\"acc\", select_hgbt_linear_dids)])).loc['ACC Mean Rank', ml_models].mean()\n",
      "/tmp/ipykernel_4148669/1746880487.py:7: FutureWarning: The behavior of indexing on a MultiIndex with a nested sequence of labels is deprecated and will change in a future version. `series.loc[label, sequence]` will raise if any members of 'sequence' or not present in the index's second level. To retain the old behavior, use `series.index.isin(sequence, level=1)`\n",
      "  dl_average_rank = get_average_rank_table(Results(current_result.df.loc[:, (\"acc\", select_hgbt_tree_dids)])).loc['ACC Mean Rank', dl_models].mean()\n",
      "/tmp/ipykernel_4148669/1746880487.py:8: FutureWarning: The behavior of indexing on a MultiIndex with a nested sequence of labels is deprecated and will change in a future version. `series.loc[label, sequence]` will raise if any members of 'sequence' or not present in the index's second level. To retain the old behavior, use `series.index.isin(sequence, level=1)`\n",
      "  ml_average_rank = get_average_rank_table(Results(current_result.df.loc[:, (\"acc\", select_hgbt_tree_dids)])).loc['ACC Mean Rank', ml_models].mean()\n",
      "/tmp/ipykernel_4148669/1746880487.py:12: FutureWarning: The behavior of indexing on a MultiIndex with a nested sequence of labels is deprecated and will change in a future version. `series.loc[label, sequence]` will raise if any members of 'sequence' or not present in the index's second level. To retain the old behavior, use `series.index.isin(sequence, level=1)`\n",
      "  dl_average_rank = get_average_rank_table(Results(current_result.df.loc[:, (\"acc\", select_hgbt_combined_dids)])).loc['ACC Mean Rank', dl_models].mean()\n",
      "/tmp/ipykernel_4148669/1746880487.py:13: FutureWarning: The behavior of indexing on a MultiIndex with a nested sequence of labels is deprecated and will change in a future version. `series.loc[label, sequence]` will raise if any members of 'sequence' or not present in the index's second level. To retain the old behavior, use `series.index.isin(sequence, level=1)`\n",
      "  ml_average_rank = get_average_rank_table(Results(current_result.df.loc[:, (\"acc\", select_hgbt_combined_dids)])).loc['ACC Mean Rank', ml_models].mean()\n",
      "/tmp/ipykernel_4148669/1746880487.py:17: FutureWarning: The behavior of indexing on a MultiIndex with a nested sequence of labels is deprecated and will change in a future version. `series.loc[label, sequence]` will raise if any members of 'sequence' or not present in the index's second level. To retain the old behavior, use `series.index.isin(sequence, level=1)`\n",
      "  dl_average_rank = get_average_rank_table(Results(current_result.df.loc[:, (\"acc\", select_cocktails_default_linear_dids)])).loc['ACC Mean Rank', dl_models].mean()\n",
      "/tmp/ipykernel_4148669/1746880487.py:18: FutureWarning: The behavior of indexing on a MultiIndex with a nested sequence of labels is deprecated and will change in a future version. `series.loc[label, sequence]` will raise if any members of 'sequence' or not present in the index's second level. To retain the old behavior, use `series.index.isin(sequence, level=1)`\n",
      "  ml_average_rank = get_average_rank_table(Results(current_result.df.loc[:, (\"acc\", select_cocktails_default_linear_dids)])).loc['ACC Mean Rank', ml_models].mean()\n"
     ]
    },
    {
     "name": "stdout",
     "output_type": "stream",
     "text": [
      "-0.3999999999999986\n",
      "-1.75\n",
      "-2.5\n",
      "-0.3999999999999986\n",
      "-1.75\n",
      "-0.7857142857142865\n"
     ]
    },
    {
     "name": "stderr",
     "output_type": "stream",
     "text": [
      "/tmp/ipykernel_4148669/1746880487.py:22: FutureWarning: The behavior of indexing on a MultiIndex with a nested sequence of labels is deprecated and will change in a future version. `series.loc[label, sequence]` will raise if any members of 'sequence' or not present in the index's second level. To retain the old behavior, use `series.index.isin(sequence, level=1)`\n",
      "  dl_average_rank = get_average_rank_table(Results(current_result.df.loc[:, (\"acc\", select_cocktails_default_tree_dids)])).loc['ACC Mean Rank', dl_models].mean()\n",
      "/tmp/ipykernel_4148669/1746880487.py:23: FutureWarning: The behavior of indexing on a MultiIndex with a nested sequence of labels is deprecated and will change in a future version. `series.loc[label, sequence]` will raise if any members of 'sequence' or not present in the index's second level. To retain the old behavior, use `series.index.isin(sequence, level=1)`\n",
      "  ml_average_rank = get_average_rank_table(Results(current_result.df.loc[:, (\"acc\", select_cocktails_default_tree_dids)])).loc['ACC Mean Rank', ml_models].mean()\n"
     ]
    }
   ],
   "source": [
    "\n",
    "# select hgbt vs logreg (should be biased against DL)\n",
    "dl_average_rank = get_average_rank_table(Results(current_result.df.loc[:, (\"acc\", select_hgbt_linear_dids)])).loc['ACC Mean Rank', dl_models].mean()\n",
    "ml_average_rank = get_average_rank_table(Results(current_result.df.loc[:, (\"acc\", select_hgbt_linear_dids)])).loc['ACC Mean Rank', ml_models].mean()\n",
    "print(dl_average_rank - ml_average_rank)\n",
    "\n",
    "# select hgbt vs tree\n",
    "dl_average_rank = get_average_rank_table(Results(current_result.df.loc[:, (\"acc\", select_hgbt_tree_dids)])).loc['ACC Mean Rank', dl_models].mean()\n",
    "ml_average_rank = get_average_rank_table(Results(current_result.df.loc[:, (\"acc\", select_hgbt_tree_dids)])).loc['ACC Mean Rank', ml_models].mean()\n",
    "print(dl_average_rank - ml_average_rank)\n",
    "\n",
    "# select hgbt vs logreg, tree\n",
    "dl_average_rank = get_average_rank_table(Results(current_result.df.loc[:, (\"acc\", select_hgbt_combined_dids)])).loc['ACC Mean Rank', dl_models].mean()\n",
    "ml_average_rank = get_average_rank_table(Results(current_result.df.loc[:, (\"acc\", select_hgbt_combined_dids)])).loc['ACC Mean Rank', ml_models].mean()\n",
    "print(dl_average_rank - ml_average_rank)\n",
    "\n",
    "# select cocktails default vs logreg\n",
    "dl_average_rank = get_average_rank_table(Results(current_result.df.loc[:, (\"acc\", select_cocktails_default_linear_dids)])).loc['ACC Mean Rank', dl_models].mean()\n",
    "ml_average_rank = get_average_rank_table(Results(current_result.df.loc[:, (\"acc\", select_cocktails_default_linear_dids)])).loc['ACC Mean Rank', ml_models].mean()\n",
    "print(dl_average_rank - ml_average_rank)\n",
    "\n",
    "# select cocktails default vs tree (should be biased against tree based)\n",
    "dl_average_rank = get_average_rank_table(Results(current_result.df.loc[:, (\"acc\", select_cocktails_default_tree_dids)])).loc['ACC Mean Rank', dl_models].mean()\n",
    "ml_average_rank = get_average_rank_table(Results(current_result.df.loc[:, (\"acc\", select_cocktails_default_tree_dids)])).loc['ACC Mean Rank', ml_models].mean()\n",
    "print(dl_average_rank - ml_average_rank)\n",
    "\n",
    "# select using STD (should not have a huge bias)\n",
    "# [ \"hgbt\", \"linear\", \"tree\", \"resnet\", \"mlp\", \"rf\"]\n",
    "select_std_methods_dids = [293, 354, 722, 1489, 1507, 41972, 42395]\n",
    "dl_average_rank = get_average_rank_table(Results(current_result.df.loc[:, (\"acc\", select_std_methods_dids)])).loc['ACC Mean Rank', dl_models].mean()\n",
    "ml_average_rank = get_average_rank_table(Results(current_result.df.loc[:, (\"acc\", select_std_methods_dids)])).loc['ACC Mean Rank', ml_models].mean()\n",
    "print(dl_average_rank - ml_average_rank)"
   ]
  },
  {
   "cell_type": "code",
   "execution_count": 55,
   "metadata": {},
   "outputs": [
    {
     "data": {
      "text/plain": [
       "[151,\n",
       " 293,\n",
       " 722,\n",
       " 821,\n",
       " 993,\n",
       " 1044,\n",
       " 1120,\n",
       " 1461,\n",
       " 1489,\n",
       " 41150,\n",
       " 41168,\n",
       " 42769,\n",
       " 44089,\n",
       " 44090,\n",
       " 44091]"
      ]
     },
     "execution_count": 55,
     "metadata": {},
     "output_type": "execute_result"
    }
   ],
   "source": [
    "their_datasets"
   ]
  },
  {
   "cell_type": "code",
   "execution_count": null,
   "metadata": {},
   "outputs": [],
   "source": []
  }
 ],
 "metadata": {
  "kernelspec": {
   "display_name": "Python 3.8.15 ('tab_bench-env')",
   "language": "python",
   "name": "python3"
  },
  "language_info": {
   "codemirror_mode": {
    "name": "ipython",
    "version": 3
   },
   "file_extension": ".py",
   "mimetype": "text/x-python",
   "name": "python",
   "nbconvert_exporter": "python",
   "pygments_lexer": "ipython3",
   "version": "3.8.15 (default, Nov  4 2022, 20:59:55) \n[GCC 11.2.0]"
  },
  "orig_nbformat": 4,
  "vscode": {
   "interpreter": {
    "hash": "bdd89d8741d58698331340ea54180aeeb25ca9f979bf53364921e9917b5aca39"
   }
  }
 },
 "nbformat": 4,
 "nbformat_minor": 2
}
