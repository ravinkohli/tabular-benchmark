{
 "cells": [
  {
   "cell_type": "code",
   "execution_count": 1,
   "metadata": {},
   "outputs": [],
   "source": [
    "import pandas as pd"
   ]
  },
  {
   "cell_type": "code",
   "execution_count": 2,
   "metadata": {},
   "outputs": [
    {
     "name": "stderr",
     "output_type": "stream",
     "text": [
      "/tmp/ipykernel_961739/1803706550.py:1: DtypeWarning: Columns (10,12,28,30,34,44,45,47,49,51,53,74,78,86,88,89,90,92,93,94,96,100,108,110,119,121,129,130,131,132,133,135,137) have mixed types. Specify dtype option on import or set low_memory=False.\n",
      "  df = pd.read_csv(\"analyses/results/random_search_benchmark_numerical.csv\", index_col=None)\n"
     ]
    }
   ],
   "source": [
    "df = pd.read_csv(\"analyses/results/random_search_benchmark_numerical.csv\", index_col=None)"
   ]
  },
  {
   "cell_type": "code",
   "execution_count": 9,
   "metadata": {},
   "outputs": [
    {
     "data": {
      "text/plain": [
       "array(['numerical_regression_medium', 'numerical_regression_large',\n",
       "       'numerical_classif_medium', 'numerical_classif_large'],\n",
       "      dtype=object)"
      ]
     },
     "execution_count": 9,
     "metadata": {},
     "output_type": "execute_result"
    }
   ],
   "source": [
    "df[\"benchmark\"].unique()"
   ]
  },
  {
   "cell_type": "code",
   "execution_count": 3,
   "metadata": {},
   "outputs": [],
   "source": [
    "bank_df = df[(df[\"model_name\"]==\"RandomForest\") & (df[\"data__keyword\"] == \"bank-marketing\") & (df[\"hp\"] == \"random\")] #.to_csv(\"rf_on_wine.csv\")"
   ]
  },
  {
   "cell_type": "code",
   "execution_count": 4,
   "metadata": {},
   "outputs": [],
   "source": [
    "wine_df = df[(df[\"model_name\"]==\"RandomForest\") & (df[\"data__keyword\"] == \"wine\") & (df[\"hp\"] == \"random\")] #.to_csv(\"rf_on_wine.csv\")"
   ]
  },
  {
   "cell_type": "code",
   "execution_count": 5,
   "metadata": {},
   "outputs": [
    {
     "data": {
      "text/plain": [
       "143747    False\n",
       "143761    False\n",
       "143790    False\n",
       "143846    False\n",
       "143935    False\n",
       "          ...  \n",
       "147627    False\n",
       "147647    False\n",
       "147662    False\n",
       "147678    False\n",
       "147699    False\n",
       "Length: 254, dtype: bool"
      ]
     },
     "execution_count": 5,
     "metadata": {},
     "output_type": "execute_result"
    }
   ],
   "source": [
    "wine_df[\"max_test_score\"] == wine_df[\"max_val_score\"]"
   ]
  },
  {
   "cell_type": "code",
   "execution_count": 6,
   "metadata": {},
   "outputs": [
    {
     "name": "stdout",
     "output_type": "stream",
     "text": [
      "model_name\n",
      "data__keyword\n",
      "mean_r2_test\n",
      "mean_r2_val\n",
      "mean_time\n",
      "hp\n",
      "...7\n",
      "_runtime\n",
      "_step\n",
      "_timestamp\n",
      "_wandb\n",
      "data__categorical\n",
      "data__method_name\n",
      "data__regression\n",
      "data_generation_time\n",
      "max_test_samples\n",
      "max_test_score\n",
      "max_train_samples\n",
      "max_train_score\n",
      "max_val_samples\n",
      "max_val_score\n",
      "mean_r2_train\n",
      "mean_test_score\n",
      "mean_train_score\n",
      "mean_val_score\n",
      "min_test_score\n",
      "min_train_score\n",
      "min_val_score\n",
      "model_type\n",
      "n_features\n",
      "n_iter\n",
      "n_test\n",
      "n_train\n",
      "one_hot_encoder\n",
      "processor\n",
      "regression\n",
      "std_r2_test\n",
      "std_r2_train\n",
      "std_r2_val\n",
      "std_test_score\n",
      "std_time\n",
      "std_train_score\n",
      "std_val_score\n",
      "step\n",
      "test_scores\n",
      "times\n",
      "train_prop\n",
      "train_scores\n",
      "transformed_target\n",
      "val_scores\n",
      "val_test_prop\n",
      "model__criterion\n",
      "model__learning_rate\n",
      "model__loss\n",
      "model__max_depth\n",
      "model__max_leaf_nodes\n",
      "model__min_impurity_decrease\n",
      "model__min_samples_leaf\n",
      "model__min_samples_split\n",
      "model__n_estimators\n",
      "model__n_iter_no_change\n",
      "model__subsample\n",
      "model__validation_fraction\n",
      "early_stopping_rounds\n",
      "model__colsample_bylevel\n",
      "model__colsample_bytree\n",
      "model__gamma\n",
      "model__min_child_weight\n",
      "model__reg_alpha\n",
      "model__reg_lambda\n",
      "model__use_label_encoder\n",
      "model__early_stopping\n",
      "model__max_iter\n",
      "model__bootstrap\n",
      "model__max_features\n",
      "Unnamed: 0\n",
      "log_training\n",
      "model__batch_size\n",
      "model__device\n",
      "model__lr\n",
      "model__lr_scheduler\n",
      "model__max_epochs\n",
      "model__module__d_embedding\n",
      "model__module__d_layers\n",
      "model__module__dropout\n",
      "model__module__n_layers\n",
      "model__optimizer\n",
      "model__use_checkpoints\n",
      "transform__0__apply_on\n",
      "transform__0__method_name\n",
      "transform__0__type\n",
      "num_epochs\n",
      "train_accuracy_vector\n",
      "valid_accuracy_vector\n",
      "valid_loss_vector\n",
      "benchmark\n",
      "model__module__activation\n",
      "model__module__d\n",
      "model__module__d_hidden_factor\n",
      "model__module__hidden_dropout\n",
      "model__module__normalization\n",
      "model__module__residual_dropout\n",
      "model__optimizer__weight_decay\n",
      "d_token\n",
      "model__module__attention_dropout\n",
      "model__module__d_ffn_factor\n",
      "model__module__d_token\n",
      "model__module__ffn_dropout\n",
      "model__module__initialization\n",
      "model__module__kv_compression\n",
      "model__module__kv_compression_sharing\n",
      "model__module__n_heads\n",
      "model__module__prenormalization\n",
      "model__module__token_bias\n",
      "model__args__batch_size\n",
      "model__args__data_parallel\n",
      "model__args__early_stopping_rounds\n",
      "model__args__epochs\n",
      "model__args__lr\n",
      "model__args__model_name\n",
      "model__args__num_classes\n",
      "model__args__objective\n",
      "model__args__use_gpu\n",
      "model__args__val_batch_size\n",
      "model__params__depth\n",
      "model__params__dim\n",
      "model__params__dropout\n",
      "model__params__heads\n",
      "...129\n",
      "Name\n",
      "Agent\n",
      "State\n",
      "Notes\n",
      "User\n",
      "Tags\n",
      "Created\n",
      "Runtime\n",
      "Sweep\n",
      "data__n_features\n",
      "data__n_samples\n",
      "data__num_samples\n",
      "model__clf_loss\n",
      "model__module_d_token\n",
      "model__n_features_per_subset\n",
      "model__rotation_algo\n",
      "model__wandb_run\n",
      "model__weight_decay\n",
      "model_module__initialization\n",
      "model_module__prenormalization\n",
      "target__method_name\n",
      "target__n_periods\n",
      "target__noise\n",
      "target__period\n",
      "target__period_size\n",
      "train_set_prop\n",
      "transform__0__max_rel_decrease\n",
      "transform__0__multiplier\n",
      "transform__1__method_name\n",
      "transform__1__multiplier\n",
      "transform__1__type\n",
      "transform__2__method_name\n",
      "transform__2__type\n",
      "test_score\n",
      "train_score\n",
      "...165\n",
      "transform__0__n_iter\n",
      "transform__1__num_features\n",
      "transform__2__cov_mult\n",
      "transform__2__covariance_estimation\n",
      "transform__2__deactivated\n",
      "...171\n",
      "...172\n",
      "model__alpha\n",
      "model__class_weight\n",
      "transform__0__model_to_use\n",
      "transform__0__num_features_to_remove\n",
      "transform__0__keep_removed_features\n",
      "transform__1__max_rel_decrease\n",
      "transform__1__n_iter\n",
      "...180\n",
      "...181\n",
      "...1\n"
     ]
    }
   ],
   "source": [
    "for column in wine_df.columns:\n",
    "    print(column)"
   ]
  },
  {
   "cell_type": "code",
   "execution_count": 10,
   "metadata": {},
   "outputs": [
    {
     "data": {
      "text/plain": [
       "(254, 182)"
      ]
     },
     "execution_count": 10,
     "metadata": {},
     "output_type": "execute_result"
    }
   ],
   "source": [
    "wine_df"
   ]
  },
  {
   "cell_type": "code",
   "execution_count": 7,
   "metadata": {},
   "outputs": [
    {
     "data": {
      "text/plain": [
       "count                          275\n",
       "unique                           1\n",
       "top       numerical_classif_medium\n",
       "freq                           275\n",
       "Name: benchmark, dtype: object"
      ]
     },
     "execution_count": 7,
     "metadata": {},
     "output_type": "execute_result"
    }
   ],
   "source": [
    "bank_df[\"benchmark\"].describe()"
   ]
  },
  {
   "cell_type": "code",
   "execution_count": null,
   "metadata": {},
   "outputs": [],
   "source": []
  }
 ],
 "metadata": {
  "kernelspec": {
   "display_name": "autopytorch_gpu-env",
   "language": "python",
   "name": "python3"
  },
  "language_info": {
   "codemirror_mode": {
    "name": "ipython",
    "version": 3
   },
   "file_extension": ".py",
   "mimetype": "text/x-python",
   "name": "python",
   "nbconvert_exporter": "python",
   "pygments_lexer": "ipython3",
   "version": "3.8.15"
  },
  "orig_nbformat": 4,
  "vscode": {
   "interpreter": {
    "hash": "17edf2c3df323277cf608530c92c68ebf0234619270a570c1bf3dc237545f47b"
   }
  }
 },
 "nbformat": 4,
 "nbformat_minor": 2
}
